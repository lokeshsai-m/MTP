{
  "nbformat": 4,
  "nbformat_minor": 0,
  "metadata": {
    "colab": {
      "provenance": [],
      "authorship_tag": "ABX9TyNc1tiAB2C37Hzj6qRsGQQa",
      "include_colab_link": true
    },
    "kernelspec": {
      "name": "python3",
      "display_name": "Python 3"
    },
    "language_info": {
      "name": "python"
    }
  },
  "cells": [
    {
      "cell_type": "markdown",
      "metadata": {
        "id": "view-in-github",
        "colab_type": "text"
      },
      "source": [
        "<a href=\"https://colab.research.google.com/github/lokeshsai-m/MTP/blob/main/Model_training.ipynb\" target=\"_parent\"><img src=\"https://colab.research.google.com/assets/colab-badge.svg\" alt=\"Open In Colab\"/></a>"
      ]
    },
    {
      "cell_type": "code",
      "execution_count": 9,
      "metadata": {
        "id": "8L4IkLHSIa3c"
      },
      "outputs": [],
      "source": [
        "import torch\n",
        "import torch.nn as nn\n",
        "import torch.optim as optim\n",
        "import torch.utils.data as data\n",
        "import math\n",
        "import copy"
      ]
    },
    {
      "cell_type": "code",
      "source": [
        "import torch\n",
        "import torch.nn as nn\n",
        "import torch.nn.functional as F\n",
        "import math,copy,re\n",
        "import warnings\n",
        "import pandas as pd\n",
        "import numpy as np\n",
        "import seaborn as sns\n",
        "import torchtext\n",
        "import matplotlib.pyplot as plt\n",
        "from sklearn.model_selection import train_test_split\n",
        "from sklearn.feature_extraction.text import CountVectorizer"
      ],
      "metadata": {
        "id": "koHmDUNnJ_J_"
      },
      "execution_count": 19,
      "outputs": []
    },
    {
      "cell_type": "code",
      "source": [
        "import tensorflow as tf\n",
        "!pip install contractions\n",
        "import contractions\n",
        "import nltk\n",
        "from nltk.corpus import stopwords\n",
        "from nltk.stem.wordnet import WordNetLemmatizer\n",
        "import re\n",
        "import transformers\n",
        "import warnings\n",
        "from tensorflow.keras.preprocessing.text import Tokenizer\n",
        "from tensorflow.keras.preprocessing.sequence import pad_sequences\n",
        "lem = WordNetLemmatizer()"
      ],
      "metadata": {
        "colab": {
          "base_uri": "https://localhost:8080/"
        },
        "id": "sZ8OsgW2JqSp",
        "outputId": "ef216c4c-f0c9-478e-eb18-d7ef71dc9a41"
      },
      "execution_count": 10,
      "outputs": [
        {
          "output_type": "stream",
          "name": "stdout",
          "text": [
            "Collecting contractions\n",
            "  Downloading contractions-0.1.73-py2.py3-none-any.whl (8.7 kB)\n",
            "Collecting textsearch>=0.0.21 (from contractions)\n",
            "  Downloading textsearch-0.0.24-py2.py3-none-any.whl (7.6 kB)\n",
            "Collecting anyascii (from textsearch>=0.0.21->contractions)\n",
            "  Downloading anyascii-0.3.2-py3-none-any.whl (289 kB)\n",
            "\u001b[2K     \u001b[90m━━━━━━━━━━━━━━━━━━━━━━━━━━━━━━━━━━━━━━━━\u001b[0m \u001b[32m289.9/289.9 kB\u001b[0m \u001b[31m5.4 MB/s\u001b[0m eta \u001b[36m0:00:00\u001b[0m\n",
            "\u001b[?25hCollecting pyahocorasick (from textsearch>=0.0.21->contractions)\n",
            "  Downloading pyahocorasick-2.0.0-cp310-cp310-manylinux_2_5_x86_64.manylinux1_x86_64.manylinux_2_12_x86_64.manylinux2010_x86_64.whl (110 kB)\n",
            "\u001b[2K     \u001b[90m━━━━━━━━━━━━━━━━━━━━━━━━━━━━━━━━━━━━━━━━\u001b[0m \u001b[32m110.8/110.8 kB\u001b[0m \u001b[31m7.6 MB/s\u001b[0m eta \u001b[36m0:00:00\u001b[0m\n",
            "\u001b[?25hInstalling collected packages: pyahocorasick, anyascii, textsearch, contractions\n",
            "Successfully installed anyascii-0.3.2 contractions-0.1.73 pyahocorasick-2.0.0 textsearch-0.0.24\n"
          ]
        }
      ]
    },
    {
      "cell_type": "code",
      "source": [
        "class MultiHeadAttention(nn.Module):\n",
        "    def __init__(self, d_model, num_heads):\n",
        "        super(MultiHeadAttention, self).__init__()\n",
        "        # Ensure that the model dimension (d_model) is divisible by the number of heads\n",
        "        assert d_model % num_heads == 0, \"d_model must be divisible by num_heads\"\n",
        "\n",
        "        # Initialize dimensions\n",
        "        self.d_model = d_model # Model's dimension\n",
        "        self.num_heads = num_heads # Number of attention heads\n",
        "        self.d_k = d_model // num_heads # Dimension of each head's key, query, and value\n",
        "\n",
        "        # Linear layers for transforming inputs\n",
        "        self.W_q = nn.Linear(d_model, d_model) # Query transformation\n",
        "        self.W_k = nn.Linear(d_model, d_model) # Key transformation\n",
        "        self.W_v = nn.Linear(d_model, d_model) # Value transformation\n",
        "        self.W_o = nn.Linear(d_model, d_model) # Output transformation\n",
        "\n",
        "    def scaled_dot_product_attention(self, Q, K, V, mask=None):\n",
        "        # Calculate attention scores\n",
        "        attn_scores = torch.matmul(Q, K.transpose(-2, -1)) / math.sqrt(self.d_k)\n",
        "\n",
        "        # Apply mask if provided (useful for preventing attention to certain parts like padding)\n",
        "        if mask is not None:\n",
        "            attn_scores = attn_scores.masked_fill(mask == 0, -1e9)\n",
        "\n",
        "        # Softmax is applied to obtain attention probabilities\n",
        "        attn_probs = torch.softmax(attn_scores, dim=-1)\n",
        "\n",
        "        # Multiply by values to obtain the final output\n",
        "        output = torch.matmul(attn_probs, V)\n",
        "        return output\n",
        "\n",
        "    def split_heads(self, x):\n",
        "        # Reshape the input to have num_heads for multi-head attention\n",
        "        batch_size, seq_length, d_model = x.size()\n",
        "        return x.view(batch_size, seq_length, self.num_heads, self.d_k).transpose(1, 2)\n",
        "\n",
        "    def combine_heads(self, x):\n",
        "        # Combine the multiple heads back to original shape\n",
        "        batch_size, _, seq_length, d_k = x.size()\n",
        "        return x.transpose(1, 2).contiguous().view(batch_size, seq_length, self.d_model)\n",
        "\n",
        "    def forward(self, Q, K, V, mask=None):\n",
        "        # Apply linear transformations and split heads\n",
        "        Q = self.split_heads(self.W_q(Q))\n",
        "        K = self.split_heads(self.W_k(K))\n",
        "        V = self.split_heads(self.W_v(V))\n",
        "\n",
        "        # Perform scaled dot-product attention\n",
        "        attn_output = self.scaled_dot_product_attention(Q, K, V, mask)\n",
        "\n",
        "        # Combine heads and apply output transformation\n",
        "        output = self.W_o(self.combine_heads(attn_output))\n",
        "        return output"
      ],
      "metadata": {
        "id": "TVTwWU74IcNt"
      },
      "execution_count": 11,
      "outputs": []
    },
    {
      "cell_type": "code",
      "source": [
        "class PositionWiseFeedForward(nn.Module):\n",
        "    def __init__(self, d_model, d_ff):\n",
        "        super(PositionWiseFeedForward, self).__init__()\n",
        "        self.fc1 = nn.Linear(d_model, d_ff)\n",
        "        self.fc2 = nn.Linear(d_ff, d_model)\n",
        "        self.relu = nn.ReLU()\n",
        "\n",
        "    def forward(self, x):\n",
        "        return self.fc2(self.relu(self.fc1(x)))"
      ],
      "metadata": {
        "id": "rTA7v5XDIjRW"
      },
      "execution_count": 12,
      "outputs": []
    },
    {
      "cell_type": "code",
      "source": [
        "class PositionalEncoding(nn.Module):\n",
        "    def __init__(self, d_model, max_seq_length):\n",
        "        super(PositionalEncoding, self).__init__()\n",
        "\n",
        "        pe = torch.zeros(max_seq_length, d_model)\n",
        "        position = torch.arange(0, max_seq_length, dtype=torch.float).unsqueeze(1)\n",
        "        div_term = torch.exp(torch.arange(0, d_model, 2).float() * -(math.log(10000.0) / d_model))\n",
        "\n",
        "        pe[:, 0::2] = torch.sin(position * div_term)\n",
        "        pe[:, 1::2] = torch.cos(position * div_term)\n",
        "\n",
        "        self.register_buffer('pe', pe.unsqueeze(0))\n",
        "\n",
        "    def forward(self, x):\n",
        "        return x + self.pe[:, :x.size(1)]"
      ],
      "metadata": {
        "id": "WR0zPDwqIsRp"
      },
      "execution_count": 13,
      "outputs": []
    },
    {
      "cell_type": "code",
      "source": [
        "class EncoderLayer(nn.Module):\n",
        "    def __init__(self, d_model, num_heads, d_ff, dropout):\n",
        "        super(EncoderLayer, self).__init__()\n",
        "        self.self_attn = MultiHeadAttention(d_model, num_heads)\n",
        "        self.feed_forward = PositionWiseFeedForward(d_model, d_ff)\n",
        "        self.norm1 = nn.LayerNorm(d_model)\n",
        "        self.norm2 = nn.LayerNorm(d_model)\n",
        "        self.dropout = nn.Dropout(dropout)\n",
        "\n",
        "    def forward(self, x, mask):\n",
        "        attn_output = self.self_attn(x, x, x, mask)\n",
        "        x = self.norm1(x + self.dropout(attn_output))\n",
        "        ff_output = self.feed_forward(x)\n",
        "        x = self.norm2(x + self.dropout(ff_output))\n",
        "        return x"
      ],
      "metadata": {
        "id": "foqyY-8aIvdq"
      },
      "execution_count": 14,
      "outputs": []
    },
    {
      "cell_type": "code",
      "source": [
        "class DecoderLayer(nn.Module):\n",
        "    def __init__(self, d_model, num_heads, d_ff, dropout):\n",
        "        super(DecoderLayer, self).__init__()\n",
        "        self.self_attn = MultiHeadAttention(d_model, num_heads)\n",
        "        self.cross_attn = MultiHeadAttention(d_model, num_heads)\n",
        "        self.feed_forward = PositionWiseFeedForward(d_model, d_ff)\n",
        "        self.norm1 = nn.LayerNorm(d_model)\n",
        "        self.norm2 = nn.LayerNorm(d_model)\n",
        "        self.norm3 = nn.LayerNorm(d_model)\n",
        "        self.dropout = nn.Dropout(dropout)\n",
        "\n",
        "    def forward(self, x, enc_output, src_mask, tgt_mask):\n",
        "        attn_output = self.self_attn(x, x, x, tgt_mask)\n",
        "        x = self.norm1(x + self.dropout(attn_output))\n",
        "        attn_output = self.cross_attn(x, enc_output, enc_output, src_mask)\n",
        "        x = self.norm2(x + self.dropout(attn_output))\n",
        "        ff_output = self.feed_forward(x)\n",
        "        x = self.norm3(x + self.dropout(ff_output))\n",
        "        return x"
      ],
      "metadata": {
        "id": "IIQgajgbIzFO"
      },
      "execution_count": 15,
      "outputs": []
    },
    {
      "cell_type": "code",
      "source": [
        "class Transformer(nn.Module):\n",
        "    def __init__(self, src_vocab_size, tgt_vocab_size, d_model, num_heads, num_layers, d_ff, max_seq_length, dropout):\n",
        "        super(Transformer, self).__init__()\n",
        "        self.encoder_embedding = nn.Embedding(src_vocab_size, d_model)\n",
        "        self.decoder_embedding = nn.Embedding(tgt_vocab_size, d_model)\n",
        "        self.positional_encoding = PositionalEncoding(d_model, max_seq_length)\n",
        "\n",
        "        self.encoder_layers = nn.ModuleList([EncoderLayer(d_model, num_heads, d_ff, dropout) for _ in range(num_layers)])\n",
        "        self.decoder_layers = nn.ModuleList([DecoderLayer(d_model, num_heads, d_ff, dropout) for _ in range(num_layers)])\n",
        "\n",
        "        self.fc = nn.Linear(d_model, tgt_vocab_size)\n",
        "        self.dropout = nn.Dropout(dropout)\n",
        "\n",
        "    def generate_mask(self, src, tgt):\n",
        "        src_mask = (src != 0).unsqueeze(1).unsqueeze(2)\n",
        "        tgt_mask = (tgt != 0).unsqueeze(1).unsqueeze(3)\n",
        "        seq_length = tgt.size(1)\n",
        "        nopeak_mask = (1 - torch.triu(torch.ones(1, seq_length, seq_length), diagonal=1)).bool()\n",
        "        tgt_mask = tgt_mask & nopeak_mask\n",
        "        return src_mask, tgt_mask\n",
        "\n",
        "    def forward(self, src, tgt):\n",
        "        src_mask, tgt_mask = self.generate_mask(src, tgt)\n",
        "        src_embedded = self.dropout(self.positional_encoding(self.encoder_embedding(src)))\n",
        "        tgt_embedded = self.dropout(self.positional_encoding(self.decoder_embedding(tgt)))\n",
        "\n",
        "        enc_output = src_embedded\n",
        "        for enc_layer in self.encoder_layers:\n",
        "            enc_output = enc_layer(enc_output, src_mask)\n",
        "\n",
        "        dec_output = tgt_embedded\n",
        "        for dec_layer in self.decoder_layers:\n",
        "            dec_output = dec_layer(dec_output, enc_output, src_mask, tgt_mask)\n",
        "\n",
        "        output = self.fc(dec_output)\n",
        "        return output"
      ],
      "metadata": {
        "id": "tcjf6nGgI2ex"
      },
      "execution_count": 16,
      "outputs": []
    },
    {
      "cell_type": "code",
      "source": [
        "data = pd.read_csv(\"/content/sample_sarcasm.csv\")"
      ],
      "metadata": {
        "id": "j0N35O9VJEdx"
      },
      "execution_count": 20,
      "outputs": []
    },
    {
      "cell_type": "code",
      "source": [
        "def preprocess(x):\n",
        "    x = x.replace(\"READ MORE\",\"\")\n",
        "    x = x.encode('ascii','ignore')\n",
        "    x = x.decode()\n",
        "    x = x.lower()\n",
        "    x = contractions.fix(x)\n",
        "    # x = ' '.join([word for word in x.split() if not word in set(stopwords.words('english'))])\n",
        "    x =  re.sub('[^a-zA-Z0-9]', ' ', x)\n",
        "    x = ' '.join(x.split())\n",
        "    # x = lem.lemmatize(x)\n",
        "    return x"
      ],
      "metadata": {
        "id": "4jogbE-DJHpM"
      },
      "execution_count": 21,
      "outputs": []
    },
    {
      "cell_type": "code",
      "source": [
        "data['processed_tweets'] = data['processed_tweets'].apply(preprocess)"
      ],
      "metadata": {
        "id": "4VrHr1-FJIXX"
      },
      "execution_count": 22,
      "outputs": []
    },
    {
      "cell_type": "code",
      "source": [
        "from sklearn.model_selection import train_test_split\n",
        "X = list(data['processed_tweets'].values)\n",
        "y = pd.get_dummies(data['sarcasm']).values\n",
        "\n",
        "\n",
        "# X_train, X_test, y_train, y_test = train_test_split(X, y, test_size=0.1, random_state=42)"
      ],
      "metadata": {
        "id": "VazDLat-JNLZ"
      },
      "execution_count": 23,
      "outputs": []
    },
    {
      "cell_type": "code",
      "source": [
        "X_train, X_val, y_train, y_val = train_test_split(X, y, test_size=0.2, stratify=y, random_state=42)\n",
        "X_val, X_test, y_val, y_test = train_test_split(X_val, y_val, test_size=0.5, stratify=y_val, random_state=42)"
      ],
      "metadata": {
        "id": "Z78m3uVDJPm0"
      },
      "execution_count": 24,
      "outputs": []
    },
    {
      "cell_type": "code",
      "source": [
        "max_len = 20\n",
        "oov_token = '00_V'\n",
        "padding_type = 'post'\n",
        "trunc_type = 'post'\n",
        "\n",
        "tokenizer = Tokenizer()\n",
        "tokenizer.fit_on_texts(X_train)\n",
        "vocab_size = len(tokenizer.word_index) + 1\n",
        "print(\"Vocab Size: \",vocab_size)"
      ],
      "metadata": {
        "colab": {
          "base_uri": "https://localhost:8080/"
        },
        "id": "c1hFkrrZJSF8",
        "outputId": "0d4b2286-2aee-4861-cb0c-bcf589e4e9f4"
      },
      "execution_count": 25,
      "outputs": [
        {
          "output_type": "stream",
          "name": "stdout",
          "text": [
            "Vocab Size:  2771\n"
          ]
        }
      ]
    },
    {
      "cell_type": "code",
      "source": [
        "train_sequences = tokenizer.texts_to_sequences(X_train)\n",
        "X_train = pad_sequences(train_sequences, maxlen=max_len, padding=padding_type, truncating=trunc_type)\n",
        "\n",
        "val_sequences = tokenizer.texts_to_sequences(X_val)\n",
        "X_val = pad_sequences(val_sequences, maxlen=max_len, padding=padding_type, truncating=trunc_type)\n",
        "\n",
        "test_sequences = tokenizer.texts_to_sequences(X_test)\n",
        "X_test = pad_sequences(test_sequences, maxlen=max_len, padding=padding_type, truncating=trunc_type)"
      ],
      "metadata": {
        "id": "RyOdPKubJVND"
      },
      "execution_count": 26,
      "outputs": []
    },
    {
      "cell_type": "code",
      "source": [
        "src_vocab_size = 2771\n",
        "tgt_vocab_size = 2\n",
        "d_model = 512\n",
        "num_heads = 8\n",
        "num_layers = 6\n",
        "d_ff = 2048\n",
        "max_seq_length = 100\n",
        "dropout = 0.1\n",
        "\n",
        "transformer = Transformer(src_vocab_size, tgt_vocab_size, d_model, num_heads, num_layers, d_ff, max_seq_length, dropout)\n",
        "\n",
        "# Generate random sample data\n"
      ],
      "metadata": {
        "id": "7A0gGQcwJYQn"
      },
      "execution_count": 27,
      "outputs": []
    },
    {
      "cell_type": "code",
      "source": [
        "src_data=torch.tensor(X_train,dtype=torch.long)\n",
        "tgt_data=torch.tensor(y_train,dtype=torch.long)"
      ],
      "metadata": {
        "id": "TvPnrmsUJhlK"
      },
      "execution_count": 29,
      "outputs": []
    },
    {
      "cell_type": "code",
      "source": [
        "criterion = nn.CrossEntropyLoss(ignore_index=0)\n",
        "optimizer = optim.Adam(transformer.parameters(), lr=0.0001, betas=(0.9, 0.98), eps=1e-9)\n",
        "\n",
        "transformer.train()\n",
        "\n",
        "for epoch in range(100):\n",
        "    optimizer.zero_grad()\n",
        "    output = transformer(src_data, tgt_data[:, :-1])\n",
        "    loss = criterion(output.contiguous().view(-1, tgt_vocab_size), tgt_data[:, 1:].contiguous().view(-1))\n",
        "    loss.backward()\n",
        "    optimizer.step()\n",
        "    print(f\"Epoch: {epoch+1}, Loss: {loss.item()}\")"
      ],
      "metadata": {
        "colab": {
          "base_uri": "https://localhost:8080/"
        },
        "id": "mjcnjhs3JmhN",
        "outputId": "6fbfaeaf-2203-448f-d7e9-ba2e8512f8d2"
      },
      "execution_count": 30,
      "outputs": [
        {
          "output_type": "stream",
          "name": "stdout",
          "text": [
            "Epoch: 1, Loss: 0.7677751183509827\n",
            "Epoch: 2, Loss: 3.0268440241343342e-05\n",
            "Epoch: 3, Loss: 4.230989361531101e-06\n",
            "Epoch: 4, Loss: 2.086160520775593e-06\n",
            "Epoch: 5, Loss: 1.4333041917780065e-06\n",
            "Epoch: 6, Loss: 1.1054793276343844e-06\n",
            "Epoch: 7, Loss: 9.164210723611177e-07\n",
            "Epoch: 8, Loss: 8.037311545194825e-07\n",
            "Epoch: 9, Loss: 7.245688493640046e-07\n",
            "Epoch: 10, Loss: 6.370245841935684e-07\n",
            "Epoch: 11, Loss: 5.885958103135636e-07\n",
            "Epoch: 12, Loss: 5.401670364335587e-07\n",
            "Epoch: 13, Loss: 5.047767785981705e-07\n",
            "Epoch: 14, Loss: 4.759058072068001e-07\n",
            "Epoch: 15, Loss: 4.451721622444893e-07\n",
            "Epoch: 16, Loss: 4.2095777530448686e-07\n",
            "Epoch: 17, Loss: 3.8649884004371415e-07\n",
            "Epoch: 18, Loss: 3.678723885514046e-07\n",
            "Epoch: 19, Loss: 3.585591628052498e-07\n",
            "Epoch: 20, Loss: 3.4831461448447953e-07\n",
            "Epoch: 21, Loss: 3.371387435890938e-07\n",
            "Epoch: 22, Loss: 3.1199303407447587e-07\n",
            "Epoch: 23, Loss: 2.803280665375496e-07\n",
            "Epoch: 24, Loss: 2.589076473213936e-07\n",
            "Epoch: 25, Loss: 2.4866309900062333e-07\n",
            "Epoch: 26, Loss: 2.4028119582908403e-07\n",
            "Epoch: 27, Loss: 2.3841856489070778e-07\n",
            "Epoch: 28, Loss: 2.3841856489070778e-07\n",
            "Epoch: 29, Loss: 2.3841856489070778e-07\n",
            "Epoch: 30, Loss: 2.3841856489070778e-07\n",
            "Epoch: 31, Loss: 2.3283062944301491e-07\n",
            "Epoch: 32, Loss: 2.3096798429378396e-07\n",
            "Epoch: 33, Loss: 2.1327285537608986e-07\n",
            "Epoch: 34, Loss: 1.8347053298839455e-07\n",
            "Epoch: 35, Loss: 1.6577540407070046e-07\n",
            "Epoch: 36, Loss: 1.4528630742915993e-07\n",
            "Epoch: 37, Loss: 1.2665985593685036e-07\n",
            "Epoch: 38, Loss: 1.2386588821300393e-07\n",
            "Epoch: 39, Loss: 1.247972107876194e-07\n",
            "Epoch: 40, Loss: 1.1920928244535389e-07\n",
            "Epoch: 41, Loss: 1.1920928244535389e-07\n",
            "Epoch: 42, Loss: 1.1920928244535389e-07\n",
            "Epoch: 43, Loss: 1.1920928244535389e-07\n",
            "Epoch: 44, Loss: 1.1920928244535389e-07\n",
            "Epoch: 45, Loss: 1.1920928244535389e-07\n",
            "Epoch: 46, Loss: 1.1920928244535389e-07\n",
            "Epoch: 47, Loss: 1.1920928244535389e-07\n",
            "Epoch: 48, Loss: 1.1920928244535389e-07\n",
            "Epoch: 49, Loss: 1.1920928244535389e-07\n",
            "Epoch: 50, Loss: 1.1920928244535389e-07\n",
            "Epoch: 51, Loss: 1.1920928244535389e-07\n",
            "Epoch: 52, Loss: 1.1920928244535389e-07\n",
            "Epoch: 53, Loss: 1.1920928244535389e-07\n",
            "Epoch: 54, Loss: 1.1920928244535389e-07\n",
            "Epoch: 55, Loss: 1.1920928244535389e-07\n",
            "Epoch: 56, Loss: 1.1920928244535389e-07\n",
            "Epoch: 57, Loss: 1.1920928244535389e-07\n",
            "Epoch: 58, Loss: 1.1920928244535389e-07\n",
            "Epoch: 59, Loss: 1.1920928244535389e-07\n",
            "Epoch: 60, Loss: 1.1920928244535389e-07\n",
            "Epoch: 61, Loss: 1.1920928244535389e-07\n",
            "Epoch: 62, Loss: 1.1920928244535389e-07\n",
            "Epoch: 63, Loss: 1.1920928244535389e-07\n",
            "Epoch: 64, Loss: 1.1920928244535389e-07\n",
            "Epoch: 65, Loss: 1.1920928244535389e-07\n",
            "Epoch: 66, Loss: 1.1920928244535389e-07\n",
            "Epoch: 67, Loss: 1.1920928244535389e-07\n",
            "Epoch: 68, Loss: 1.1920928244535389e-07\n",
            "Epoch: 69, Loss: 1.1920928244535389e-07\n",
            "Epoch: 70, Loss: 1.1827795987073841e-07\n",
            "Epoch: 71, Loss: 1.145526695722765e-07\n",
            "Epoch: 72, Loss: 1.1362134699766102e-07\n",
            "Epoch: 73, Loss: 1.1082737927381459e-07\n",
            "Epoch: 74, Loss: 1.0710208897535267e-07\n",
            "Epoch: 75, Loss: 8.475034718458119e-08\n",
            "Epoch: 76, Loss: 8.381902460996571e-08\n",
            "Epoch: 77, Loss: 8.288770203535023e-08\n",
            "Epoch: 78, Loss: 6.891786341611805e-08\n",
            "Epoch: 79, Loss: 6.23986053938097e-08\n",
            "Epoch: 80, Loss: 5.122273805113764e-08\n",
            "Epoch: 81, Loss: 4.563480260344477e-08\n",
            "Epoch: 82, Loss: 3.259628655882807e-08\n",
            "Epoch: 83, Loss: 2.8870998036722995e-08\n",
            "Epoch: 84, Loss: 2.607703031287656e-08\n",
            "Epoch: 85, Loss: 2.1420417439799166e-08\n",
            "Epoch: 86, Loss: 1.4901160305669237e-08\n",
            "Epoch: 87, Loss: 9.313224857976365e-09\n",
            "Epoch: 88, Loss: 7.4505797087454084e-09\n",
            "Epoch: 89, Loss: 1.8626450382086546e-09\n",
            "Epoch: 90, Loss: 3.725290076417309e-09\n",
            "Epoch: 91, Loss: 4.656612428988183e-09\n",
            "Epoch: 92, Loss: 1.8626450382086546e-09\n",
            "Epoch: 93, Loss: 3.725290076417309e-09\n",
            "Epoch: 94, Loss: 9.313225191043273e-10\n",
            "Epoch: 95, Loss: 1.8626450382086546e-09\n",
            "Epoch: 96, Loss: 0.0\n",
            "Epoch: 97, Loss: 9.313225191043273e-10\n",
            "Epoch: 98, Loss: 0.0\n",
            "Epoch: 99, Loss: 0.0\n",
            "Epoch: 100, Loss: 0.0\n"
          ]
        }
      ]
    },
    {
      "cell_type": "code",
      "source": [
        "val_src_data=torch.tensor(X_test,dtype=torch.long)\n",
        "val_tgt_data=torch.tensor(y_test,dtype=torch.long)"
      ],
      "metadata": {
        "id": "4YINdonvLiQf"
      },
      "execution_count": 31,
      "outputs": []
    },
    {
      "cell_type": "code",
      "source": [
        "transformer.eval()\n",
        "\n",
        "# Generate random sample validation data\n",
        "\n",
        "with torch.no_grad():\n",
        "\n",
        "    val_output = transformer(val_src_data, val_tgt_data[:, :-1])\n",
        "    val_loss = criterion(val_output.contiguous().view(-1, tgt_vocab_size), val_tgt_data[:, 1:].contiguous().view(-1))\n",
        "    print(f\"Validation Loss: {val_loss.item()}\")"
      ],
      "metadata": {
        "colab": {
          "base_uri": "https://localhost:8080/"
        },
        "id": "cnmJHZaYLU4Z",
        "outputId": "9b04b163-e5c1-4bcf-d7dd-875a808824ac"
      },
      "execution_count": 33,
      "outputs": [
        {
          "output_type": "stream",
          "name": "stdout",
          "text": [
            "Validation Loss: 0.0\n"
          ]
        }
      ]
    }
  ]
}