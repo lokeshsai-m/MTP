{
  "nbformat": 4,
  "nbformat_minor": 0,
  "metadata": {
    "colab": {
      "provenance": [],
      "authorship_tag": "ABX9TyOifbfkzl/5g0F0ZP2YRaUk",
      "include_colab_link": true
    },
    "kernelspec": {
      "name": "python3",
      "display_name": "Python 3"
    },
    "language_info": {
      "name": "python"
    }
  },
  "cells": [
    {
      "cell_type": "markdown",
      "metadata": {
        "id": "view-in-github",
        "colab_type": "text"
      },
      "source": [
        "<a href=\"https://colab.research.google.com/github/lokeshsai-m/MTP/blob/main/transformer_architecture.ipynb\" target=\"_parent\"><img src=\"https://colab.research.google.com/assets/colab-badge.svg\" alt=\"Open In Colab\"/></a>"
      ]
    },
    {
      "cell_type": "code",
      "source": [
        "import torch\n",
        "import torch.nn as nn\n",
        "import torch.nn.functional as F\n",
        "import math\n",
        "\n",
        "\n",
        "\n",
        "class MultiHeadAttention(nn.Module):\n",
        "    def __init__(self, d_model, num_heads):\n",
        "        super(MultiHeadAttention, self).__init__()\n",
        "        self.d_model = d_model\n",
        "        self.num_heads = num_heads\n",
        "        self.head_dim = d_model // num_heads\n",
        "\n",
        "        self.W_q = nn.Linear(d_model, d_model)\n",
        "        self.W_k = nn.Linear(d_model, d_model)\n",
        "        self.W_v = nn.Linear(d_model, d_model)\n",
        "        self.W_o = nn.Linear(d_model, d_model)\n",
        "\n",
        "    def scaled_dot_product_attention(self, Q, K, V):\n",
        "        scale_factor = math.sqrt(self.head_dim)\n",
        "        attention_scores = torch.matmul(Q, K.transpose(-2, -1)) / scale_factor\n",
        "        attention_weights = F.softmax(attention_scores, dim=-1)\n",
        "        output = torch.matmul(attention_weights, V)\n",
        "        return output\n",
        "\n",
        "    def forward(self, query, key, value, mask=None):\n",
        "        batch_size = query.size(0)\n",
        "\n",
        "        Q = self.W_q(query).view(batch_size, -1, self.num_heads, self.head_dim).transpose(1, 2)\n",
        "        K = self.W_k(key).view(batch_size, -1, self.num_heads, self.head_dim).transpose(1, 2)\n",
        "        V = self.W_v(value).view(batch_size, -1, self.num_heads, self.head_dim).transpose(1, 2)\n",
        "\n",
        "        attention_scores = self.scaled_dot_product_attention(Q, K, V)\n",
        "\n",
        "        concatenated_attention = attention_scores.transpose(1, 2).contiguous().view(batch_size, -1, self.d_model)\n",
        "        output = self.W_o(concatenated_attention)\n",
        "\n",
        "        return output\n"
      ],
      "metadata": {
        "id": "dJg2l2aovOib"
      },
      "execution_count": 10,
      "outputs": []
    },
    {
      "cell_type": "code",
      "source": [
        "class PositionalEncoding(nn.Module):\n",
        "    def __init__(self, d_model, max_len=512):\n",
        "        super(PositionalEncoding, self).__init__()\n",
        "        pe = torch.zeros(max_len, d_model)\n",
        "        position = torch.arange(0, max_len, dtype=torch.float).unsqueeze(1)\n",
        "        div_term = torch.exp(torch.arange(0, d_model, 2).float() * -(math.log(10000.0) / d_model))\n",
        "        pe[:, 0::2] = torch.sin(position * div_term)\n",
        "        pe[:, 1::2] = torch.cos(position * div_term)\n",
        "        pe = pe.unsqueeze(0)\n",
        "        self.register_buffer('pe', pe)\n",
        "\n",
        "    def forward(self, x):\n",
        "        return x + self.pe[:, :x.size(1)].detach()"
      ],
      "metadata": {
        "id": "2NgknmXvvWDu"
      },
      "execution_count": 11,
      "outputs": []
    },
    {
      "cell_type": "code",
      "source": [
        "\n",
        "class EncoderLayer(nn.Module):\n",
        "    def __init__(self, d_model, num_heads):\n",
        "        super(EncoderLayer, self).__init__()\n",
        "        self.multihead_attention = MultiHeadAttention(d_model, num_heads)\n",
        "        self.layer_norm = nn.LayerNorm(d_model)\n",
        "        self.feedforward = nn.Sequential(\n",
        "            nn.Linear(d_model, 4 * d_model),\n",
        "            nn.ReLU(),\n",
        "            nn.Linear(4 * d_model, d_model)\n",
        "        )\n",
        "\n",
        "    def forward(self, x):\n",
        "        attention_output = self.multihead_attention(x, x, x)\n",
        "        x = x + attention_output\n",
        "        x = self.layer_norm(x)\n",
        "        feedforward_output = self.feedforward(x)\n",
        "        x = x + feedforward_output\n",
        "        x = self.layer_norm(x)\n",
        "        return x\n",
        "\n",
        "class Encoder(nn.Module):\n",
        "    def __init__(self, d_model, num_heads, num_layers):\n",
        "        super(Encoder, self).__init__()\n",
        "        self.layers = nn.ModuleList([EncoderLayer(d_model, num_heads) for _ in range(num_layers)])\n",
        "\n",
        "    def forward(self, x):\n",
        "        for layer in self.layers:\n",
        "            x = layer(x)\n",
        "        return x\n"
      ],
      "metadata": {
        "id": "4OGSGXTwvWtQ"
      },
      "execution_count": 12,
      "outputs": []
    },
    {
      "cell_type": "code",
      "source": [
        "\n",
        "class DecoderLayer(nn.Module):\n",
        "    def __init__(self, d_model, num_heads):\n",
        "        super(DecoderLayer, self).__init__()\n",
        "        self.masked_multihead_attention = MultiHeadAttention(d_model, num_heads)\n",
        "        self.multihead_attention = MultiHeadAttention(d_model, num_heads)\n",
        "        self.layer_norm = nn.LayerNorm(d_model)\n",
        "        self.feedforward = nn.Sequential(\n",
        "            nn.Linear(d_model, 4 * d_model),\n",
        "            nn.ReLU(),\n",
        "            nn.Linear(4 * d_model, d_model)\n",
        "        )\n",
        "\n",
        "    def forward(self, x, encoder_output, mask=None):\n",
        "        masked_attention_output = self.masked_multihead_attention(x, x, x, mask)\n",
        "        x = x + masked_attention_output\n",
        "        x = self.layer_norm(x)\n",
        "\n",
        "        cross_attention_output = self.multihead_attention(x, encoder_output, encoder_output)\n",
        "        x = x + cross_attention_output\n",
        "        x = self.layer_norm(x)\n",
        "\n",
        "        feedforward_output = self.feedforward(x)\n",
        "        x = x + feedforward_output\n",
        "        x = self.layer_norm(x)\n",
        "\n",
        "        return x\n",
        "\n",
        "class Decoder(nn.Module):\n",
        "    def __init__(self, d_model, num_heads, num_layers):\n",
        "        super(Decoder, self).__init__()\n",
        "        self.layers = nn.ModuleList([DecoderLayer(d_model, num_heads) for _ in range(num_layers)])\n",
        "\n",
        "    def forward(self, x, encoder_output, mask=None):\n",
        "        for layer in self.layers:\n",
        "            x = layer(x, encoder_output, mask)\n",
        "        return x\n"
      ],
      "metadata": {
        "id": "VgKzEEHTveO9"
      },
      "execution_count": 13,
      "outputs": []
    },
    {
      "cell_type": "code",
      "source": [
        "class Transformer(nn.Module):\n",
        "    def __init__(self, d_model, num_heads, num_layers):\n",
        "        super(Transformer, self).__init__()\n",
        "        self.encoder = Encoder(d_model, num_heads, num_layers)\n",
        "        self.decoder = Decoder(d_model, num_heads, num_layers)\n",
        "\n",
        "    def forward(self, src, tgt, src_mask=None, tgt_mask=None):\n",
        "        encoder_output = self.encoder(src)\n",
        "        decoder_output = self.decoder(tgt, encoder_output, tgt_mask)\n",
        "        return decoder_output\n",
        "\n",
        "# Example usage:\n",
        "d_model = 512\n",
        "num_heads = 8\n",
        "num_layers = 6\n",
        "max_len = 100\n",
        "\n",
        "# Instantiate the Transformer model\n",
        "transformer = Transformer(d_model, num_heads, num_layers)\n",
        "\n",
        "# Example input tensors\n",
        "src = torch.rand((32, max_len, d_model))  # (batch_size, sequence_length, d_model)\n",
        "tgt = torch.rand((32, max_len, d_model))  # (batch_size, sequence_length, d_model)\n",
        "\n",
        "# Example forward pass\n",
        "output = transformer(src, tgt)\n",
        "\n",
        "print(\"Output shape:\", output.shape)\n"
      ],
      "metadata": {
        "colab": {
          "base_uri": "https://localhost:8080/"
        },
        "id": "Oqzxu1a6vhfV",
        "outputId": "25738a0e-3ff0-4a1e-d0bf-8a7b2d79aacd"
      },
      "execution_count": 14,
      "outputs": [
        {
          "output_type": "stream",
          "name": "stdout",
          "text": [
            "Output shape: torch.Size([32, 100, 512])\n"
          ]
        }
      ]
    }
  ]
}